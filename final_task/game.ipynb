{
 "cells": [
  {
   "cell_type": "markdown",
   "metadata": {},
   "source": [
    "# Игра угадай число"
   ]
  },
  {
   "cell_type": "code",
   "execution_count": 3,
   "metadata": {},
   "outputs": [],
   "source": [
    "from game_v2 import score_game\n",
    "from game_v2 import random_predict"
   ]
  },
  {
   "cell_type": "markdown",
   "metadata": {},
   "source": [
    "## Угадываем рандомно"
   ]
  },
  {
   "cell_type": "code",
   "execution_count": 4,
   "metadata": {},
   "outputs": [
    {
     "name": "stdout",
     "output_type": "stream",
     "text": [
      "Ваш алгоритм угадывает число в среднем за:21 попыток\n"
     ]
    },
    {
     "data": {
      "text/plain": [
       "21"
      ]
     },
     "execution_count": 4,
     "metadata": {},
     "output_type": "execute_result"
    }
   ],
   "source": [
    "score_game(random_predict)"
   ]
  },
  {
   "cell_type": "code",
   "execution_count": 5,
   "metadata": {},
   "outputs": [
    {
     "name": "stdout",
     "output_type": "stream",
     "text": [
      "Note: you may need to restart the kernel to use updated packages.\n"
     ]
    }
   ],
   "source": [
    "pip freeze > requirements.txt"
   ]
  },
  {
   "cell_type": "code",
   "execution_count": 6,
   "metadata": {},
   "outputs": [
    {
     "name": "stdout",
     "output_type": "stream",
     "text": [
      "Requirement already satisfied: appnope==0.1.3 in /Users/skillfactory/Library/Python/3.10/lib/python/site-packages (from -r requirements.txt (line 1)) (0.1.3)\n",
      "Requirement already satisfied: asttokens==2.0.8 in /Users/skillfactory/Library/Python/3.10/lib/python/site-packages (from -r requirements.txt (line 2)) (2.0.8)\n",
      "Requirement already satisfied: backcall==0.2.0 in /Users/skillfactory/Library/Python/3.10/lib/python/site-packages (from -r requirements.txt (line 3)) (0.2.0)\n",
      "Requirement already satisfied: debugpy==1.6.3 in /Users/skillfactory/Library/Python/3.10/lib/python/site-packages (from -r requirements.txt (line 4)) (1.6.3)\n",
      "Requirement already satisfied: decorator==5.1.1 in /Users/skillfactory/Library/Python/3.10/lib/python/site-packages (from -r requirements.txt (line 5)) (5.1.1)\n",
      "Requirement already satisfied: entrypoints==0.4 in /Users/skillfactory/Library/Python/3.10/lib/python/site-packages (from -r requirements.txt (line 6)) (0.4)\n",
      "Requirement already satisfied: executing==1.1.1 in /Users/skillfactory/Library/Python/3.10/lib/python/site-packages (from -r requirements.txt (line 7)) (1.1.1)\n",
      "Requirement already satisfied: ipykernel==6.16.1 in /Users/skillfactory/Library/Python/3.10/lib/python/site-packages (from -r requirements.txt (line 8)) (6.16.1)\n",
      "Requirement already satisfied: ipython==8.5.0 in /Users/skillfactory/Library/Python/3.10/lib/python/site-packages (from -r requirements.txt (line 9)) (8.5.0)\n",
      "Requirement already satisfied: jedi==0.18.1 in /Users/skillfactory/Library/Python/3.10/lib/python/site-packages (from -r requirements.txt (line 10)) (0.18.1)\n",
      "Requirement already satisfied: jupyter_client==7.4.3 in /Users/skillfactory/Library/Python/3.10/lib/python/site-packages (from -r requirements.txt (line 11)) (7.4.3)\n",
      "Requirement already satisfied: jupyter_core==4.11.2 in /Users/skillfactory/Library/Python/3.10/lib/python/site-packages (from -r requirements.txt (line 12)) (4.11.2)\n",
      "Requirement already satisfied: matplotlib-inline==0.1.6 in /Users/skillfactory/Library/Python/3.10/lib/python/site-packages (from -r requirements.txt (line 13)) (0.1.6)\n",
      "Requirement already satisfied: nest-asyncio==1.5.6 in /Users/skillfactory/Library/Python/3.10/lib/python/site-packages (from -r requirements.txt (line 14)) (1.5.6)\n",
      "Requirement already satisfied: numpy==1.23.4 in /Library/Frameworks/Python.framework/Versions/3.10/lib/python3.10/site-packages (from -r requirements.txt (line 15)) (1.23.4)\n",
      "Requirement already satisfied: packaging==21.3 in /Users/skillfactory/Library/Python/3.10/lib/python/site-packages (from -r requirements.txt (line 16)) (21.3)\n",
      "Requirement already satisfied: parso==0.8.3 in /Users/skillfactory/Library/Python/3.10/lib/python/site-packages (from -r requirements.txt (line 17)) (0.8.3)\n",
      "Requirement already satisfied: pexpect==4.8.0 in /Users/skillfactory/Library/Python/3.10/lib/python/site-packages (from -r requirements.txt (line 18)) (4.8.0)\n",
      "Requirement already satisfied: pickleshare==0.7.5 in /Users/skillfactory/Library/Python/3.10/lib/python/site-packages (from -r requirements.txt (line 19)) (0.7.5)\n",
      "Requirement already satisfied: prompt-toolkit==3.0.31 in /Users/skillfactory/Library/Python/3.10/lib/python/site-packages (from -r requirements.txt (line 20)) (3.0.31)\n",
      "Requirement already satisfied: psutil==5.9.3 in /Users/skillfactory/Library/Python/3.10/lib/python/site-packages (from -r requirements.txt (line 21)) (5.9.3)\n",
      "Requirement already satisfied: ptyprocess==0.7.0 in /Users/skillfactory/Library/Python/3.10/lib/python/site-packages (from -r requirements.txt (line 22)) (0.7.0)\n",
      "Requirement already satisfied: pure-eval==0.2.2 in /Users/skillfactory/Library/Python/3.10/lib/python/site-packages (from -r requirements.txt (line 23)) (0.2.2)\n",
      "Requirement already satisfied: Pygments==2.13.0 in /Users/skillfactory/Library/Python/3.10/lib/python/site-packages (from -r requirements.txt (line 24)) (2.13.0)\n",
      "Requirement already satisfied: pyparsing==3.0.9 in /Users/skillfactory/Library/Python/3.10/lib/python/site-packages (from -r requirements.txt (line 25)) (3.0.9)\n",
      "Requirement already satisfied: python-dateutil==2.8.2 in /Users/skillfactory/Library/Python/3.10/lib/python/site-packages (from -r requirements.txt (line 26)) (2.8.2)\n",
      "Requirement already satisfied: pyzmq==24.0.1 in /Users/skillfactory/Library/Python/3.10/lib/python/site-packages (from -r requirements.txt (line 27)) (24.0.1)\n",
      "Requirement already satisfied: six==1.16.0 in /Users/skillfactory/Library/Python/3.10/lib/python/site-packages (from -r requirements.txt (line 28)) (1.16.0)\n",
      "Requirement already satisfied: stack-data==0.5.1 in /Users/skillfactory/Library/Python/3.10/lib/python/site-packages (from -r requirements.txt (line 29)) (0.5.1)\n",
      "Requirement already satisfied: tornado==6.2 in /Users/skillfactory/Library/Python/3.10/lib/python/site-packages (from -r requirements.txt (line 30)) (6.2)\n",
      "Requirement already satisfied: traitlets==5.5.0 in /Users/skillfactory/Library/Python/3.10/lib/python/site-packages (from -r requirements.txt (line 31)) (5.5.0)\n",
      "Requirement already satisfied: wcwidth==0.2.5 in /Users/skillfactory/Library/Python/3.10/lib/python/site-packages (from -r requirements.txt (line 32)) (0.2.5)\n",
      "Note: you may need to restart the kernel to use updated packages.\n"
     ]
    }
   ],
   "source": [
    "pip install -r requirements.txt"
   ]
  }
 ],
 "metadata": {
  "kernelspec": {
   "display_name": "Python 3.10.7 64-bit",
   "language": "python",
   "name": "python3"
  },
  "language_info": {
   "codemirror_mode": {
    "name": "ipython",
    "version": 3
   },
   "file_extension": ".py",
   "mimetype": "text/x-python",
   "name": "python",
   "nbconvert_exporter": "python",
   "pygments_lexer": "ipython3",
   "version": "3.10.7"
  },
  "orig_nbformat": 4,
  "vscode": {
   "interpreter": {
    "hash": "aee8b7b246df8f9039afb4144a1f6fd8d2ca17a180786b69acc140d282b71a49"
   }
  }
 },
 "nbformat": 4,
 "nbformat_minor": 2
}
